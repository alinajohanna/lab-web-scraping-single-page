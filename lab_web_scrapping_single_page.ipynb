{
 "cells": [
  {
   "cell_type": "code",
   "execution_count": 1,
   "id": "b1b31764",
   "metadata": {},
   "outputs": [],
   "source": [
    "import requests # to download html code\n",
    "from bs4 import BeautifulSoup # to navigate through the html code\n",
    "import pandas as pd\n",
    "import numpy as np\n",
    "import re"
   ]
  },
  {
   "cell_type": "code",
   "execution_count": 2,
   "id": "1498bc5b",
   "metadata": {},
   "outputs": [
    {
     "name": "stdout",
     "output_type": "stream",
     "text": [
      "200\n"
     ]
    }
   ],
   "source": [
    "url = \"https://www.billboard.com/charts/hot-100/\"\n",
    "response = requests.get(url)\n",
    "print(response.status_code)"
   ]
  },
  {
   "cell_type": "code",
   "execution_count": 49,
   "id": "481b008a",
   "metadata": {},
   "outputs": [],
   "source": [
    "soup = BeautifulSoup(response.text, 'html.parser')"
   ]
  },
  {
   "cell_type": "code",
   "execution_count": 40,
   "id": "c46f0afa",
   "metadata": {},
   "outputs": [],
   "source": [
    "titles = []\n",
    "artists = []\n",
    "for elem in soup.select(\"li.lrv-u-width-100p h3\"):\n",
    "    titles.append((elem.get_text().replace(\"\\n\",\" \").replace(\"\\t\",\" \").lstrip().rstrip()))\n",
    "    artists.append((elem.parent.select('span')[0].get_text().replace(\"\\n\",\" \").replace(\"\\t\",\" \").lstrip().rstrip()))"
   ]
  },
  {
   "cell_type": "code",
   "execution_count": 50,
   "id": "37d8b3de",
   "metadata": {},
   "outputs": [
    {
     "data": {
      "text/html": [
       "<div>\n",
       "<style scoped>\n",
       "    .dataframe tbody tr th:only-of-type {\n",
       "        vertical-align: middle;\n",
       "    }\n",
       "\n",
       "    .dataframe tbody tr th {\n",
       "        vertical-align: top;\n",
       "    }\n",
       "\n",
       "    .dataframe thead th {\n",
       "        text-align: right;\n",
       "    }\n",
       "</style>\n",
       "<table border=\"1\" class=\"dataframe\">\n",
       "  <thead>\n",
       "    <tr style=\"text-align: right;\">\n",
       "      <th></th>\n",
       "      <th>artist</th>\n",
       "      <th>title</th>\n",
       "    </tr>\n",
       "  </thead>\n",
       "  <tbody>\n",
       "    <tr>\n",
       "      <th>0</th>\n",
       "      <td>Brenda Lee</td>\n",
       "      <td>Rockin' Around The Christmas Tree</td>\n",
       "    </tr>\n",
       "    <tr>\n",
       "      <th>1</th>\n",
       "      <td>Mariah Carey</td>\n",
       "      <td>All I Want For Christmas Is You</td>\n",
       "    </tr>\n",
       "    <tr>\n",
       "      <th>2</th>\n",
       "      <td>Bobby Helms</td>\n",
       "      <td>Jingle Bell Rock</td>\n",
       "    </tr>\n",
       "    <tr>\n",
       "      <th>3</th>\n",
       "      <td>Wham!</td>\n",
       "      <td>Last Christmas</td>\n",
       "    </tr>\n",
       "    <tr>\n",
       "      <th>4</th>\n",
       "      <td>Burl Ives</td>\n",
       "      <td>A Holly Jolly Christmas</td>\n",
       "    </tr>\n",
       "    <tr>\n",
       "      <th>...</th>\n",
       "      <td>...</td>\n",
       "      <td>...</td>\n",
       "    </tr>\n",
       "    <tr>\n",
       "      <th>95</th>\n",
       "      <td>Grupo Frontera &amp; Grupo Firme</td>\n",
       "      <td>El Amor de Su Vida</td>\n",
       "    </tr>\n",
       "    <tr>\n",
       "      <th>96</th>\n",
       "      <td>Jung Kook</td>\n",
       "      <td>Standing Next To You</td>\n",
       "    </tr>\n",
       "    <tr>\n",
       "      <th>97</th>\n",
       "      <td>Morgan Wallen Featuring Eric Church</td>\n",
       "      <td>Man Made A Bar</td>\n",
       "    </tr>\n",
       "    <tr>\n",
       "      <th>98</th>\n",
       "      <td>Calle 24 x Chino Pacas x Fuerza Regida</td>\n",
       "      <td>Que Onda</td>\n",
       "    </tr>\n",
       "    <tr>\n",
       "      <th>99</th>\n",
       "      <td>Rod Wave</td>\n",
       "      <td>Great Gatsby</td>\n",
       "    </tr>\n",
       "  </tbody>\n",
       "</table>\n",
       "<p>100 rows × 2 columns</p>\n",
       "</div>"
      ],
      "text/plain": [
       "                                    artist                              title\n",
       "0                               Brenda Lee  Rockin' Around The Christmas Tree\n",
       "1                             Mariah Carey    All I Want For Christmas Is You\n",
       "2                              Bobby Helms                   Jingle Bell Rock\n",
       "3                                    Wham!                     Last Christmas\n",
       "4                                Burl Ives            A Holly Jolly Christmas\n",
       "..                                     ...                                ...\n",
       "95            Grupo Frontera & Grupo Firme                 El Amor de Su Vida\n",
       "96                               Jung Kook               Standing Next To You\n",
       "97     Morgan Wallen Featuring Eric Church                     Man Made A Bar\n",
       "98  Calle 24 x Chino Pacas x Fuerza Regida                           Que Onda\n",
       "99                                Rod Wave                       Great Gatsby\n",
       "\n",
       "[100 rows x 2 columns]"
      ]
     },
     "execution_count": 50,
     "metadata": {},
     "output_type": "execute_result"
    }
   ],
   "source": [
    "hot_songs_df = pd.DataFrame({'artist':artists, 'title': titles})\n",
    "hot_songs_df"
   ]
  },
  {
   "cell_type": "markdown",
   "id": "7c4b201e",
   "metadata": {},
   "source": [
    "Finally, creating a function to scrap the current top 100 songs:"
   ]
  },
  {
   "cell_type": "code",
   "execution_count": 53,
   "id": "9ab0379c",
   "metadata": {},
   "outputs": [],
   "source": [
    "def hot_songs(soup) -> pd.DataFrame:\n",
    "    \"\"\"\n",
    "    Generating a CSV containing the current Top 100 Songs on Billboard.\n",
    "    \"\"\"\n",
    "    titles = []\n",
    "    artists = []\n",
    "    for elem in soup.select(\"li.lrv-u-width-100p h3\"):\n",
    "        titles.append((elem.get_text().replace(\"\\n\",\" \").replace(\"\\t\",\" \").lstrip().rstrip()))\n",
    "        artists.append((elem.parent.select('span')[0].get_text().replace(\"\\n\",\" \").replace(\"\\t\",\" \").lstrip().rstrip()))\n",
    "    \n",
    "    #generating final DataFrame\n",
    "    hot_songs_df = pd.DataFrame({'artist':artists, 'title': titles})\n",
    "    \n",
    "    #saving as csv\n",
    "    hot_songs_df.to_csv('billboard_top100.csv')\n",
    "    pass"
   ]
  },
  {
   "cell_type": "code",
   "execution_count": 54,
   "id": "7c022eef",
   "metadata": {},
   "outputs": [],
   "source": [
    "hot_songs(soup)"
   ]
  }
 ],
 "metadata": {
  "kernelspec": {
   "display_name": "Python 3 (ipykernel)",
   "language": "python",
   "name": "python3"
  },
  "language_info": {
   "codemirror_mode": {
    "name": "ipython",
    "version": 3
   },
   "file_extension": ".py",
   "mimetype": "text/x-python",
   "name": "python",
   "nbconvert_exporter": "python",
   "pygments_lexer": "ipython3",
   "version": "3.11.5"
  }
 },
 "nbformat": 4,
 "nbformat_minor": 5
}
